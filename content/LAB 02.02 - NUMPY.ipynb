{
  "cells": [
    {
      "cell_type": "markdown",
      "metadata": {
        "id": "KsAGo-AVVl02"
      },
      "source": [
        "# LAB 02.02 - Numpy"
      ]
    },
    {
      "cell_type": "code",
      "execution_count": 7,
      "metadata": {
        "colab": {
          "base_uri": "https://localhost:8080/",
          "height": 73
        },
        "id": "3YnjzC6vVl0-",
        "outputId": "b8537224-483e-4179-a113-b3adba2e0255"
      },
      "outputs": [
        {
          "output_type": "display_data",
          "data": {
            "text/plain": [
              "<IPython.core.display.HTML object>"
            ],
            "text/html": [
              "\n",
              "<meta name=\"google-signin-client_id\"\n",
              "      content=\"461673936472-kdjosv61up3ac1ajeuq6qqu72upilmls.apps.googleusercontent.com\"/>\n",
              "<script src=\"https://apis.google.com/js/client:platform.js?onload=google_button_start\"></script>\n",
              "    "
            ]
          },
          "metadata": {}
        },
        {
          "output_type": "stream",
          "name": "stdout",
          "text": [
            "replicating local resources\n"
          ]
        },
        {
          "output_type": "execute_result",
          "data": {
            "text/plain": [
              "<IPython.core.display.HTML object>"
            ],
            "text/html": [
              "<h3>See <a href='https://m5knaekxo6.execute-api.us-west-2.amazonaws.com/dev-v0001/rlxmooc/web/login' target='_blank'>my courses and progress</a></h2>"
            ]
          },
          "metadata": {},
          "execution_count": 7
        }
      ],
      "source": [
        "!wget --no-cache -O init.py -q https://raw.githubusercontent.com/rramosp/ai4eng.v1/main/content/init.py\n",
        "import init; init.init(force_download=False); init.get_weblink()\n"
      ]
    },
    {
      "cell_type": "code",
      "execution_count": 22,
      "metadata": {
        "colab": {
          "base_uri": "https://localhost:8080/",
          "height": 97,
          "referenced_widgets": [
            "d28f9b75196f4ed4b9b8125b614bf3fa",
            "dc192dec7c974682a75e2db7958e975c",
            "fbf2acbe52eb47efbb2816cfc11b7e82",
            "86ba4dd7c6774d22bc397fd460386d89",
            "0b128d88ac9e4bfebc779443db047b91",
            "ef3f9ca4cabe4c3789f5af67bf8fbdfe",
            "13207140a7c147ddbbf045c30202c782",
            "35ccaf25624f4daabfdf423725367f35",
            "051285c32887443d91bf8288961ab876",
            "93eda10110ea49b7a4d7265676214dc9",
            "903368cf50974818a7d2fb4816f91283",
            "5ca4374cc77b4254b14b29c0031538ab",
            "25923238e92b44cd98b5d86acf03e8bf",
            "435508eb1d7a4efebc0f3a4680b17d6d",
            "8e66f0777ecf4cf09c12de865b66dd25",
            "9b35868ad6ed4ce5820c2a3a7bab8d86",
            "83b985937982446daeb0fa266ccc188d",
            "476bb55ca85d4cb2be0ea62309a84d73",
            "8efffcffccc54d358659f684ad376577"
          ]
        },
        "id": "LioGIYnxVl1B",
        "outputId": "9a91b80f-a001-49ed-8432-166f90ea3828"
      },
      "outputs": [
        {
          "output_type": "stream",
          "name": "stdout",
          "text": [
            "logging in as wmauricio.restrepo@udea.edu.co... please wait\n",
            "using course session ai4eng.v1.udea.r2::2023.1\n",
            "success!! you are logged in\n"
          ]
        }
      ],
      "source": [
        "from local.lib.rlxmoocapi import submit, session\n",
        "session.LoginSequence(endpoint=init.endpoint, course_id=init.course_id, lab_id=\"L02.02\", varname=\"student\");"
      ]
    },
    {
      "cell_type": "code",
      "execution_count": 3,
      "metadata": {
        "id": "rcZRTrMZVl1C"
      },
      "outputs": [],
      "source": [
        "import numpy as np"
      ]
    },
    {
      "cell_type": "markdown",
      "metadata": {
        "id": "N1nrd2FsVl1C"
      },
      "source": [
        "## Task 1: Cauchy Matrix\n",
        "\n",
        "\n",
        "Given two vectors (1D `numpy` arrays), $x$ and $y$, build the Cauchy Matrix:\n",
        "\n",
        "\n",
        "$$C_{ij}=\\:\\: \\frac{1}{x_i-y_j}$$\n",
        "\n",
        "See https://en.wikipedia.org/wiki/Cauchy_matrix, the elements of the matrix are the results of substracting the correpsonding positions in the $x$ and $y$ vectors where the rows correspond to $x$ and the columns to $y$.\n",
        "\n",
        "**NOTE**: if there is any division by zero, you must raise a `ValueError` exception.\n",
        "\n",
        "**HINT**: create a matrix with zeros with the desired output shape, use broadcasting of $x$ as row vector, and then broadcasting of $y$ as column vector with `reshape(-1,1)`\n",
        "\n",
        "**CHALLENGE**: build a function with maximum four lines of code, including checking for zeros and raising the exception.\n",
        "\n",
        "**Execution example**\n",
        "\n",
        "```python\n",
        ">> x = np.array([45, 31, 67, 75, 54])\n",
        ">> y = np.array([17,  7, 15, 15, 18])\n",
        ">> cauchy(c,y)\n",
        "array([[0.03571429, 0.02631579, 0.03333333, 0.03333333, 0.03703704],\n",
        "       [0.07142857, 0.04166667, 0.0625    , 0.0625    , 0.07692308],\n",
        "       [0.02      , 0.01666667, 0.01923077, 0.01923077, 0.02040816],\n",
        "       [0.01724138, 0.01470588, 0.01666667, 0.01666667, 0.01754386],\n",
        "       [0.02702703, 0.0212766 , 0.02564103, 0.02564103, 0.02777778]])\n",
        "```"
      ]
    },
    {
      "cell_type": "code",
      "execution_count": 39,
      "metadata": {
        "id": "NLklyVpdVl1E"
      },
      "outputs": [],
      "source": [
        "def cauchy(x, y):\n",
        "  xa=int(len(x))\n",
        "  ya=int(len(y))\n",
        "  print (type(xa), type(ya))\n",
        "  r = np.zeros((xa,ya))\n",
        "  for i in range(0,xa):\n",
        "    for j in range(0,ya):\n",
        "      if x[i]==y[i]:\n",
        "        raise ValueError()\n",
        "      else:\n",
        "        r[i][j]= 1/(x[i]-y[j])      \n",
        "        \n",
        "      \n",
        "  return r\n",
        "\n",
        "  #r =... # your code here\n",
        "    \n",
        "  "
      ]
    },
    {
      "cell_type": "markdown",
      "metadata": {
        "id": "eXfWzbifVl1F"
      },
      "source": [
        "**check your code manually**"
      ]
    },
    {
      "cell_type": "code",
      "execution_count": 40,
      "metadata": {
        "colab": {
          "base_uri": "https://localhost:8080/"
        },
        "id": "7pMgV2VfVl1G",
        "outputId": "c8f2073e-48af-41f6-87fd-a6d33773c252"
      },
      "outputs": [
        {
          "output_type": "stream",
          "name": "stdout",
          "text": [
            "<class 'int'> <class 'int'>\n"
          ]
        },
        {
          "output_type": "execute_result",
          "data": {
            "text/plain": [
              "array([[0.03571429, 0.02631579, 0.03333333, 0.03333333, 0.03703704],\n",
              "       [0.07142857, 0.04166667, 0.0625    , 0.0625    , 0.07692308],\n",
              "       [0.02      , 0.01666667, 0.01923077, 0.01923077, 0.02040816],\n",
              "       [0.01724138, 0.01470588, 0.01666667, 0.01666667, 0.01754386],\n",
              "       [0.02702703, 0.0212766 , 0.02564103, 0.02564103, 0.02777778]])"
            ]
          },
          "metadata": {},
          "execution_count": 40
        }
      ],
      "source": [
        "x = np.array([45, 31, 67, 75, 54])\n",
        "y = np.array([17,  7, 15, 15, 18])\n",
        "cauchy(x,y)"
      ]
    },
    {
      "cell_type": "markdown",
      "metadata": {
        "id": "nYGmNwjPVl1H"
      },
      "source": [
        "this execution should raise a `ValueError` exception"
      ]
    },
    {
      "cell_type": "code",
      "execution_count": 41,
      "metadata": {
        "colab": {
          "base_uri": "https://localhost:8080/",
          "height": 334
        },
        "id": "CaBOE8d0Vl1H",
        "outputId": "12857655-4562-4477-c4ae-f1541644f849"
      },
      "outputs": [
        {
          "output_type": "stream",
          "name": "stdout",
          "text": [
            "<class 'int'> <class 'int'>\n"
          ]
        },
        {
          "output_type": "error",
          "ename": "ValueError",
          "evalue": "ignored",
          "traceback": [
            "\u001b[0;31m---------------------------------------------------------------------------\u001b[0m",
            "\u001b[0;31mValueError\u001b[0m                                Traceback (most recent call last)",
            "\u001b[0;32m<ipython-input-41-b2259d1ae864>\u001b[0m in \u001b[0;36m<module>\u001b[0;34m\u001b[0m\n\u001b[1;32m      2\u001b[0m \u001b[0my\u001b[0m \u001b[0;34m=\u001b[0m \u001b[0mnp\u001b[0m\u001b[0;34m.\u001b[0m\u001b[0marray\u001b[0m\u001b[0;34m(\u001b[0m\u001b[0;34m[\u001b[0m\u001b[0;36m17\u001b[0m\u001b[0;34m,\u001b[0m  \u001b[0;36m7\u001b[0m\u001b[0;34m,\u001b[0m \u001b[0;36m15\u001b[0m\u001b[0;34m,\u001b[0m \u001b[0;36m75\u001b[0m\u001b[0;34m,\u001b[0m \u001b[0;36m18\u001b[0m\u001b[0;34m]\u001b[0m\u001b[0;34m)\u001b[0m\u001b[0;34m\u001b[0m\u001b[0;34m\u001b[0m\u001b[0m\n\u001b[1;32m      3\u001b[0m \u001b[0;34m\u001b[0m\u001b[0m\n\u001b[0;32m----> 4\u001b[0;31m \u001b[0mcauchy\u001b[0m\u001b[0;34m(\u001b[0m\u001b[0mx\u001b[0m\u001b[0;34m,\u001b[0m\u001b[0my\u001b[0m\u001b[0;34m)\u001b[0m\u001b[0;34m\u001b[0m\u001b[0;34m\u001b[0m\u001b[0m\n\u001b[0m",
            "\u001b[0;32m<ipython-input-39-0d44e56565b0>\u001b[0m in \u001b[0;36mcauchy\u001b[0;34m(x, y)\u001b[0m\n\u001b[1;32m      7\u001b[0m     \u001b[0;32mfor\u001b[0m \u001b[0mj\u001b[0m \u001b[0;32min\u001b[0m \u001b[0mrange\u001b[0m\u001b[0;34m(\u001b[0m\u001b[0;36m0\u001b[0m\u001b[0;34m,\u001b[0m\u001b[0mya\u001b[0m\u001b[0;34m)\u001b[0m\u001b[0;34m:\u001b[0m\u001b[0;34m\u001b[0m\u001b[0;34m\u001b[0m\u001b[0m\n\u001b[1;32m      8\u001b[0m       \u001b[0;32mif\u001b[0m \u001b[0mx\u001b[0m\u001b[0;34m[\u001b[0m\u001b[0mi\u001b[0m\u001b[0;34m]\u001b[0m\u001b[0;34m==\u001b[0m\u001b[0my\u001b[0m\u001b[0;34m[\u001b[0m\u001b[0mi\u001b[0m\u001b[0;34m]\u001b[0m\u001b[0;34m:\u001b[0m\u001b[0;34m\u001b[0m\u001b[0;34m\u001b[0m\u001b[0m\n\u001b[0;32m----> 9\u001b[0;31m         \u001b[0;32mraise\u001b[0m \u001b[0mValueError\u001b[0m\u001b[0;34m(\u001b[0m\u001b[0;34m)\u001b[0m\u001b[0;34m\u001b[0m\u001b[0;34m\u001b[0m\u001b[0m\n\u001b[0m\u001b[1;32m     10\u001b[0m       \u001b[0;32melse\u001b[0m\u001b[0;34m:\u001b[0m\u001b[0;34m\u001b[0m\u001b[0;34m\u001b[0m\u001b[0m\n\u001b[1;32m     11\u001b[0m         \u001b[0mr\u001b[0m\u001b[0;34m[\u001b[0m\u001b[0mi\u001b[0m\u001b[0;34m]\u001b[0m\u001b[0;34m[\u001b[0m\u001b[0mj\u001b[0m\u001b[0;34m]\u001b[0m\u001b[0;34m=\u001b[0m \u001b[0;36m1\u001b[0m\u001b[0;34m/\u001b[0m\u001b[0;34m(\u001b[0m\u001b[0mx\u001b[0m\u001b[0;34m[\u001b[0m\u001b[0mi\u001b[0m\u001b[0;34m]\u001b[0m\u001b[0;34m-\u001b[0m\u001b[0my\u001b[0m\u001b[0;34m[\u001b[0m\u001b[0mj\u001b[0m\u001b[0;34m]\u001b[0m\u001b[0;34m)\u001b[0m\u001b[0;34m\u001b[0m\u001b[0;34m\u001b[0m\u001b[0m\n",
            "\u001b[0;31mValueError\u001b[0m: "
          ]
        }
      ],
      "source": [
        "x = np.array([45, 31, 67, 75, 54])\n",
        "y = np.array([17,  7, 15, 75, 18])\n",
        "\n",
        "cauchy(x,y)"
      ]
    },
    {
      "cell_type": "code",
      "execution_count": null,
      "metadata": {
        "id": "0Yxu85iWVl1I"
      },
      "outputs": [],
      "source": []
    },
    {
      "cell_type": "code",
      "execution_count": null,
      "metadata": {
        "id": "DfPQvQwAVl1J"
      },
      "outputs": [],
      "source": []
    },
    {
      "cell_type": "markdown",
      "metadata": {
        "id": "b9scvbCCVl1J"
      },
      "source": [
        "**submit your code**"
      ]
    },
    {
      "cell_type": "code",
      "execution_count": 42,
      "metadata": {
        "scrolled": true,
        "colab": {
          "base_uri": "https://localhost:8080/",
          "height": 126
        },
        "id": "N5mqJV37Vl1K",
        "outputId": "43735fc4-9378-41b5-f7a9-c89afd3b958c"
      },
      "outputs": [
        {
          "output_type": "display_data",
          "data": {
            "text/plain": [
              "<IPython.core.display.HTML object>"
            ],
            "text/html": [
              "\n",
              "                    <b>task_01 submitted.</b> <b><font color=\"blue\">your grade is 5</font></b> \n",
              "                    <p/><pre>----- grader message -------</pre>testing with 100 random calls<br/><b>correct</b><pre>----------------------------</pre>\n",
              "                    <p/><p/>\n",
              "                    <div style=\"font-size:10px\"><b>SUBMISSION CODE</b> FUuJC5mU79RxM5PKJsntlrMZIP1brJlxqKxkllxJN6QB//DCfXHaOiUGDQ8w65gCCYGgvtL98X1kuchfvvnFVATcCVI809/jy22x362I8EIO+k55xN9WrnTW9NXu4TAtFwrGY5DRaH+B9mZ4qKzn6XPyncqBApyKjCZjfqF0lWg=</div>\n",
              "                    "
            ]
          },
          "metadata": {}
        }
      ],
      "source": [
        "student.submit_task(globals(), task_id=\"task_01\");"
      ]
    },
    {
      "cell_type": "markdown",
      "metadata": {
        "id": "L5vhMLLkVl1L"
      },
      "source": [
        "## Task 2: Position of closest scalar\n",
        "\n",
        "Given a 1D vector $x$, find the position of the closest element to $v$\n",
        "\n",
        "\n",
        "**Execution example**:\n",
        "\n",
        "```python\n",
        ">> x=np.arange(25,55,3)\n",
        ">> minimo(x,34)\n",
        "3\n",
        "```\n",
        "\n",
        "**HINT**: use [`np.argmin`](https://docs.scipy.org/doc/numpy/reference/generated/numpy.argmin.html)\n",
        "\n",
        "**CHALLENGE**: solve it with one line of code"
      ]
    },
    {
      "cell_type": "code",
      "execution_count": null,
      "metadata": {
        "id": "B41HINh9Vl1M"
      },
      "outputs": [],
      "source": [
        "def minimo(x,v):\n",
        "    return ... # your code here"
      ]
    },
    {
      "cell_type": "markdown",
      "metadata": {
        "id": "xQeok5BSVl1N"
      },
      "source": [
        "**check manually your code**"
      ]
    },
    {
      "cell_type": "code",
      "execution_count": null,
      "metadata": {
        "id": "s9tLF286Vl1O"
      },
      "outputs": [],
      "source": [
        "x = np.arange(25,55,3)\n",
        "v = 34\n",
        "minimo(x,v)"
      ]
    },
    {
      "cell_type": "markdown",
      "metadata": {
        "id": "_xGitd4KVl1P"
      },
      "source": [
        "**submit your code**"
      ]
    },
    {
      "cell_type": "code",
      "execution_count": null,
      "metadata": {
        "scrolled": true,
        "id": "d_5OZnFzVl1Q"
      },
      "outputs": [],
      "source": [
        "student.submit_task(globals(), task_id=\"task_02\");"
      ]
    },
    {
      "cell_type": "markdown",
      "metadata": {
        "id": "tvss-7YBVl1R"
      },
      "source": [
        "## Task 3: Substracting row mean\n",
        "\n",
        "Given a matrix, your function must return a new one with the same dimensions in which each component is substracted the mean of its own row.\n",
        "\n",
        "\n",
        "**Execution example**\n",
        "```python\n",
        ">> X = np.array([[1, 2, 3], [4, 5, 6],[7,8,9]])\n",
        ">> media(X)\n",
        "array([[-1.,  0.,  1.],\n",
        "       [-1.,  0.,  1.],\n",
        "       [-1.,  0.,  1.]])\n",
        "```\n",
        "\n",
        "**HINT**: use broadcasting\n",
        "\n",
        "**CHALLENGE**: solve it with one line of code"
      ]
    },
    {
      "cell_type": "code",
      "execution_count": null,
      "metadata": {
        "id": "xaXuB0A5Vl1S"
      },
      "outputs": [],
      "source": [
        "def media(X):\n",
        "    return ... # your code here"
      ]
    },
    {
      "cell_type": "markdown",
      "metadata": {
        "id": "7MNd5amgVl1T"
      },
      "source": [
        "**check your code manually**"
      ]
    },
    {
      "cell_type": "code",
      "execution_count": null,
      "metadata": {
        "id": "3dLPAZzyVl1U"
      },
      "outputs": [],
      "source": [
        "X = np.array([[1, 2, 3], [4, 5, 6],[7,8,9]])\n",
        "media(X)"
      ]
    },
    {
      "cell_type": "markdown",
      "metadata": {
        "id": "SDzQilJtVl1V"
      },
      "source": [
        "**submit your code**"
      ]
    },
    {
      "cell_type": "code",
      "execution_count": null,
      "metadata": {
        "scrolled": false,
        "id": "yB35CGwLVl1V"
      },
      "outputs": [],
      "source": [
        "student.submit_task(globals(), task_id=\"task_03\");"
      ]
    },
    {
      "cell_type": "markdown",
      "metadata": {
        "id": "0dQIWYksVl1W"
      },
      "source": [
        "## Task 4: Double the diagonal\n",
        "\n",
        "Complete the following function such that it returns the same matrix received in $X$ but with its diagonal multiplied by 2. Assume $X$ is a square matrix (with the same number of rows and columns).\n",
        "\n",
        "**Execution example**\n",
        "\n",
        "```python\n",
        ">> X = np.array([[79, 45, 67,  8, 37],\n",
        ">>               [47, 40,  5, 79, 86],\n",
        ">>               [72, 25, 44, 45, 22],\n",
        ">>               [12, 85,  8, 53, 28],\n",
        ">>               [ 4, 37, 36, 40, 16]])\n",
        ">> \n",
        ">> doublediag(X)\n",
        "\n",
        "array([[158.,  45.,  67.,   8.,  37.],\n",
        "       [ 47.,  80.,   5.,  79.,  86.],\n",
        "       [ 72.,  25.,  88.,  45.,  22.],\n",
        "       [ 12.,  85.,   8., 106.,  28.],\n",
        "       [  4.,  37.,  36.,  40.,  32.]])\n",
        "```\n",
        "\n",
        "**HINT**: use [`np.eye`](https://docs.scipy.org/doc/numpy/reference/generated/numpy.eye.html)\n",
        "\n",
        "**CHALLENGE**: solve with one line of code"
      ]
    },
    {
      "cell_type": "code",
      "execution_count": null,
      "metadata": {
        "id": "t-rxaxgNVl1Y"
      },
      "outputs": [],
      "source": [
        "def doublediag(X):\n",
        "    return ... # your code here"
      ]
    },
    {
      "cell_type": "markdown",
      "metadata": {
        "id": "sBmJf4pCVl1Z"
      },
      "source": [
        "**check manually your code**"
      ]
    },
    {
      "cell_type": "code",
      "execution_count": null,
      "metadata": {
        "id": "Nm7KWao6Vl1Z"
      },
      "outputs": [],
      "source": [
        "X = np.array([[79, 45, 67,  8, 37],\n",
        "              [47, 40,  5, 79, 86],\n",
        "              [72, 25, 44, 45, 22],\n",
        "              [12, 85,  8, 53, 28],\n",
        "              [ 4, 37, 36, 40, 16]])\n",
        "doublediag(X)"
      ]
    },
    {
      "cell_type": "markdown",
      "metadata": {
        "id": "T62hlO9YVl1a"
      },
      "source": [
        "**submit your code**"
      ]
    },
    {
      "cell_type": "code",
      "execution_count": null,
      "metadata": {
        "scrolled": true,
        "id": "C8rJECFBVl1c"
      },
      "outputs": [],
      "source": [
        "student.submit_task(globals(), task_id=\"task_04\");"
      ]
    },
    {
      "cell_type": "code",
      "execution_count": null,
      "metadata": {
        "id": "_o1DQn44Vl1d"
      },
      "outputs": [],
      "source": []
    }
  ],
  "metadata": {
    "kernelspec": {
      "display_name": "Python 3",
      "language": "python",
      "name": "python3"
    },
    "language_info": {
      "codemirror_mode": {
        "name": "ipython",
        "version": 3
      },
      "file_extension": ".py",
      "mimetype": "text/x-python",
      "name": "python",
      "nbconvert_exporter": "python",
      "pygments_lexer": "ipython3",
      "version": "3.7.3"
    },
    "colab": {
      "provenance": []
    },
    "widgets": {
      "application/vnd.jupyter.widget-state+json": {
        "d28f9b75196f4ed4b9b8125b614bf3fa": {
          "model_module": "@jupyter-widgets/controls",
          "model_name": "HBoxModel",
          "model_module_version": "1.5.0",
          "state": {
            "_dom_classes": [],
            "_model_module": "@jupyter-widgets/controls",
            "_model_module_version": "1.5.0",
            "_model_name": "HBoxModel",
            "_view_count": null,
            "_view_module": "@jupyter-widgets/controls",
            "_view_module_version": "1.5.0",
            "_view_name": "HBoxView",
            "box_style": "",
            "children": [
              "IPY_MODEL_dc192dec7c974682a75e2db7958e975c",
              "IPY_MODEL_fbf2acbe52eb47efbb2816cfc11b7e82",
              "IPY_MODEL_86ba4dd7c6774d22bc397fd460386d89",
              "IPY_MODEL_0b128d88ac9e4bfebc779443db047b91"
            ],
            "layout": "IPY_MODEL_ef3f9ca4cabe4c3789f5af67bf8fbdfe"
          }
        },
        "dc192dec7c974682a75e2db7958e975c": {
          "model_module": "@jupyter-widgets/controls",
          "model_name": "VBoxModel",
          "model_module_version": "1.5.0",
          "state": {
            "_dom_classes": [],
            "_model_module": "@jupyter-widgets/controls",
            "_model_module_version": "1.5.0",
            "_model_name": "VBoxModel",
            "_view_count": null,
            "_view_module": "@jupyter-widgets/controls",
            "_view_module_version": "1.5.0",
            "_view_name": "VBoxView",
            "box_style": "",
            "children": [
              "IPY_MODEL_13207140a7c147ddbbf045c30202c782",
              "IPY_MODEL_35ccaf25624f4daabfdf423725367f35"
            ],
            "layout": "IPY_MODEL_051285c32887443d91bf8288961ab876"
          }
        },
        "fbf2acbe52eb47efbb2816cfc11b7e82": {
          "model_module": "@jupyter-widgets/controls",
          "model_name": "ButtonModel",
          "model_module_version": "1.5.0",
          "state": {
            "_dom_classes": [
              "login_button"
            ],
            "_model_module": "@jupyter-widgets/controls",
            "_model_module_version": "1.5.0",
            "_model_name": "ButtonModel",
            "_view_count": null,
            "_view_module": "@jupyter-widgets/controls",
            "_view_module_version": "1.5.0",
            "_view_name": "ButtonView",
            "button_style": "",
            "description": "Login with email",
            "disabled": false,
            "icon": "",
            "layout": "IPY_MODEL_93eda10110ea49b7a4d7265676214dc9",
            "style": "IPY_MODEL_903368cf50974818a7d2fb4816f91283",
            "tooltip": ""
          }
        },
        "86ba4dd7c6774d22bc397fd460386d89": {
          "model_module": "@jupyter-widgets/controls",
          "model_name": "HTMLModel",
          "model_module_version": "1.5.0",
          "state": {
            "_dom_classes": [],
            "_model_module": "@jupyter-widgets/controls",
            "_model_module_version": "1.5.0",
            "_model_name": "HTMLModel",
            "_view_count": null,
            "_view_module": "@jupyter-widgets/controls",
            "_view_module_version": "1.5.0",
            "_view_name": "HTMLView",
            "description": "",
            "description_tooltip": null,
            "layout": "IPY_MODEL_5ca4374cc77b4254b14b29c0031538ab",
            "placeholder": "​",
            "style": "IPY_MODEL_25923238e92b44cd98b5d86acf03e8bf",
            "value": "<center><big>or</big></center>"
          }
        },
        "0b128d88ac9e4bfebc779443db047b91": {
          "model_module": "@jupyter-widgets/controls",
          "model_name": "ButtonModel",
          "model_module_version": "1.5.0",
          "state": {
            "_dom_classes": [
              "google_button"
            ],
            "_model_module": "@jupyter-widgets/controls",
            "_model_module_version": "1.5.0",
            "_model_name": "ButtonModel",
            "_view_count": null,
            "_view_module": "@jupyter-widgets/controls",
            "_view_module_version": "1.5.0",
            "_view_name": "ButtonView",
            "button_style": "",
            "description": "Login with Google",
            "disabled": false,
            "icon": "",
            "layout": "IPY_MODEL_435508eb1d7a4efebc0f3a4680b17d6d",
            "style": "IPY_MODEL_8e66f0777ecf4cf09c12de865b66dd25",
            "tooltip": ""
          }
        },
        "ef3f9ca4cabe4c3789f5af67bf8fbdfe": {
          "model_module": "@jupyter-widgets/base",
          "model_name": "LayoutModel",
          "model_module_version": "1.2.0",
          "state": {
            "_model_module": "@jupyter-widgets/base",
            "_model_module_version": "1.2.0",
            "_model_name": "LayoutModel",
            "_view_count": null,
            "_view_module": "@jupyter-widgets/base",
            "_view_module_version": "1.2.0",
            "_view_name": "LayoutView",
            "align_content": null,
            "align_items": null,
            "align_self": null,
            "border": null,
            "bottom": null,
            "display": null,
            "flex": null,
            "flex_flow": null,
            "grid_area": null,
            "grid_auto_columns": null,
            "grid_auto_flow": null,
            "grid_auto_rows": null,
            "grid_column": null,
            "grid_gap": null,
            "grid_row": null,
            "grid_template_areas": null,
            "grid_template_columns": null,
            "grid_template_rows": null,
            "height": null,
            "justify_content": null,
            "justify_items": null,
            "left": null,
            "margin": null,
            "max_height": null,
            "max_width": null,
            "min_height": null,
            "min_width": null,
            "object_fit": null,
            "object_position": null,
            "order": null,
            "overflow": null,
            "overflow_x": null,
            "overflow_y": null,
            "padding": null,
            "right": null,
            "top": null,
            "visibility": null,
            "width": null
          }
        },
        "13207140a7c147ddbbf045c30202c782": {
          "model_module": "@jupyter-widgets/controls",
          "model_name": "TextModel",
          "model_module_version": "1.5.0",
          "state": {
            "_dom_classes": [],
            "_model_module": "@jupyter-widgets/controls",
            "_model_module_version": "1.5.0",
            "_model_name": "TextModel",
            "_view_count": null,
            "_view_module": "@jupyter-widgets/controls",
            "_view_module_version": "1.5.0",
            "_view_name": "TextView",
            "continuous_update": true,
            "description": "email",
            "description_tooltip": null,
            "disabled": false,
            "layout": "IPY_MODEL_9b35868ad6ed4ce5820c2a3a7bab8d86",
            "placeholder": "​",
            "style": "IPY_MODEL_83b985937982446daeb0fa266ccc188d",
            "value": ""
          }
        },
        "35ccaf25624f4daabfdf423725367f35": {
          "model_module": "@jupyter-widgets/controls",
          "model_name": "PasswordModel",
          "model_module_version": "1.5.0",
          "state": {
            "_dom_classes": [],
            "_model_module": "@jupyter-widgets/controls",
            "_model_module_version": "1.5.0",
            "_model_name": "PasswordModel",
            "_view_count": null,
            "_view_module": "@jupyter-widgets/controls",
            "_view_module_version": "1.5.0",
            "_view_name": "PasswordView",
            "continuous_update": true,
            "description": "password",
            "description_tooltip": null,
            "disabled": false,
            "layout": "IPY_MODEL_476bb55ca85d4cb2be0ea62309a84d73",
            "placeholder": "​",
            "style": "IPY_MODEL_8efffcffccc54d358659f684ad376577",
            "value": ""
          }
        },
        "051285c32887443d91bf8288961ab876": {
          "model_module": "@jupyter-widgets/base",
          "model_name": "LayoutModel",
          "model_module_version": "1.2.0",
          "state": {
            "_model_module": "@jupyter-widgets/base",
            "_model_module_version": "1.2.0",
            "_model_name": "LayoutModel",
            "_view_count": null,
            "_view_module": "@jupyter-widgets/base",
            "_view_module_version": "1.2.0",
            "_view_name": "LayoutView",
            "align_content": null,
            "align_items": null,
            "align_self": null,
            "border": null,
            "bottom": null,
            "display": null,
            "flex": null,
            "flex_flow": null,
            "grid_area": null,
            "grid_auto_columns": null,
            "grid_auto_flow": null,
            "grid_auto_rows": null,
            "grid_column": null,
            "grid_gap": null,
            "grid_row": null,
            "grid_template_areas": null,
            "grid_template_columns": null,
            "grid_template_rows": null,
            "height": null,
            "justify_content": null,
            "justify_items": null,
            "left": null,
            "margin": null,
            "max_height": null,
            "max_width": null,
            "min_height": null,
            "min_width": null,
            "object_fit": null,
            "object_position": null,
            "order": null,
            "overflow": null,
            "overflow_x": null,
            "overflow_y": null,
            "padding": null,
            "right": null,
            "top": null,
            "visibility": null,
            "width": null
          }
        },
        "93eda10110ea49b7a4d7265676214dc9": {
          "model_module": "@jupyter-widgets/base",
          "model_name": "LayoutModel",
          "model_module_version": "1.2.0",
          "state": {
            "_model_module": "@jupyter-widgets/base",
            "_model_module_version": "1.2.0",
            "_model_name": "LayoutModel",
            "_view_count": null,
            "_view_module": "@jupyter-widgets/base",
            "_view_module_version": "1.2.0",
            "_view_name": "LayoutView",
            "align_content": null,
            "align_items": null,
            "align_self": null,
            "border": null,
            "bottom": null,
            "display": null,
            "flex": null,
            "flex_flow": null,
            "grid_area": null,
            "grid_auto_columns": null,
            "grid_auto_flow": null,
            "grid_auto_rows": null,
            "grid_column": null,
            "grid_gap": null,
            "grid_row": null,
            "grid_template_areas": null,
            "grid_template_columns": null,
            "grid_template_rows": null,
            "height": "53px",
            "justify_content": null,
            "justify_items": null,
            "left": null,
            "margin": null,
            "max_height": null,
            "max_width": null,
            "min_height": null,
            "min_width": null,
            "object_fit": null,
            "object_position": null,
            "order": null,
            "overflow": null,
            "overflow_x": null,
            "overflow_y": null,
            "padding": null,
            "right": null,
            "top": null,
            "visibility": null,
            "width": "150px"
          }
        },
        "903368cf50974818a7d2fb4816f91283": {
          "model_module": "@jupyter-widgets/controls",
          "model_name": "ButtonStyleModel",
          "model_module_version": "1.5.0",
          "state": {
            "_model_module": "@jupyter-widgets/controls",
            "_model_module_version": "1.5.0",
            "_model_name": "ButtonStyleModel",
            "_view_count": null,
            "_view_module": "@jupyter-widgets/base",
            "_view_module_version": "1.2.0",
            "_view_name": "StyleView",
            "button_color": null,
            "font_weight": ""
          }
        },
        "5ca4374cc77b4254b14b29c0031538ab": {
          "model_module": "@jupyter-widgets/base",
          "model_name": "LayoutModel",
          "model_module_version": "1.2.0",
          "state": {
            "_model_module": "@jupyter-widgets/base",
            "_model_module_version": "1.2.0",
            "_model_name": "LayoutModel",
            "_view_count": null,
            "_view_module": "@jupyter-widgets/base",
            "_view_module_version": "1.2.0",
            "_view_name": "LayoutView",
            "align_content": null,
            "align_items": null,
            "align_self": null,
            "border": null,
            "bottom": null,
            "display": null,
            "flex": null,
            "flex_flow": null,
            "grid_area": null,
            "grid_auto_columns": null,
            "grid_auto_flow": null,
            "grid_auto_rows": null,
            "grid_column": null,
            "grid_gap": null,
            "grid_row": null,
            "grid_template_areas": null,
            "grid_template_columns": null,
            "grid_template_rows": null,
            "height": null,
            "justify_content": null,
            "justify_items": null,
            "left": null,
            "margin": null,
            "max_height": null,
            "max_width": null,
            "min_height": null,
            "min_width": null,
            "object_fit": null,
            "object_position": null,
            "order": null,
            "overflow": null,
            "overflow_x": null,
            "overflow_y": null,
            "padding": null,
            "right": null,
            "top": null,
            "visibility": null,
            "width": "100px"
          }
        },
        "25923238e92b44cd98b5d86acf03e8bf": {
          "model_module": "@jupyter-widgets/controls",
          "model_name": "DescriptionStyleModel",
          "model_module_version": "1.5.0",
          "state": {
            "_model_module": "@jupyter-widgets/controls",
            "_model_module_version": "1.5.0",
            "_model_name": "DescriptionStyleModel",
            "_view_count": null,
            "_view_module": "@jupyter-widgets/base",
            "_view_module_version": "1.2.0",
            "_view_name": "StyleView",
            "description_width": ""
          }
        },
        "435508eb1d7a4efebc0f3a4680b17d6d": {
          "model_module": "@jupyter-widgets/base",
          "model_name": "LayoutModel",
          "model_module_version": "1.2.0",
          "state": {
            "_model_module": "@jupyter-widgets/base",
            "_model_module_version": "1.2.0",
            "_model_name": "LayoutModel",
            "_view_count": null,
            "_view_module": "@jupyter-widgets/base",
            "_view_module_version": "1.2.0",
            "_view_name": "LayoutView",
            "align_content": null,
            "align_items": null,
            "align_self": null,
            "border": null,
            "bottom": null,
            "display": null,
            "flex": null,
            "flex_flow": null,
            "grid_area": null,
            "grid_auto_columns": null,
            "grid_auto_flow": null,
            "grid_auto_rows": null,
            "grid_column": null,
            "grid_gap": null,
            "grid_row": null,
            "grid_template_areas": null,
            "grid_template_columns": null,
            "grid_template_rows": null,
            "height": "53px",
            "justify_content": null,
            "justify_items": null,
            "left": null,
            "margin": null,
            "max_height": null,
            "max_width": null,
            "min_height": null,
            "min_width": null,
            "object_fit": null,
            "object_position": null,
            "order": null,
            "overflow": null,
            "overflow_x": null,
            "overflow_y": null,
            "padding": null,
            "right": null,
            "top": null,
            "visibility": null,
            "width": "200px"
          }
        },
        "8e66f0777ecf4cf09c12de865b66dd25": {
          "model_module": "@jupyter-widgets/controls",
          "model_name": "ButtonStyleModel",
          "model_module_version": "1.5.0",
          "state": {
            "_model_module": "@jupyter-widgets/controls",
            "_model_module_version": "1.5.0",
            "_model_name": "ButtonStyleModel",
            "_view_count": null,
            "_view_module": "@jupyter-widgets/base",
            "_view_module_version": "1.2.0",
            "_view_name": "StyleView",
            "button_color": null,
            "font_weight": ""
          }
        },
        "9b35868ad6ed4ce5820c2a3a7bab8d86": {
          "model_module": "@jupyter-widgets/base",
          "model_name": "LayoutModel",
          "model_module_version": "1.2.0",
          "state": {
            "_model_module": "@jupyter-widgets/base",
            "_model_module_version": "1.2.0",
            "_model_name": "LayoutModel",
            "_view_count": null,
            "_view_module": "@jupyter-widgets/base",
            "_view_module_version": "1.2.0",
            "_view_name": "LayoutView",
            "align_content": null,
            "align_items": null,
            "align_self": null,
            "border": null,
            "bottom": null,
            "display": null,
            "flex": null,
            "flex_flow": null,
            "grid_area": null,
            "grid_auto_columns": null,
            "grid_auto_flow": null,
            "grid_auto_rows": null,
            "grid_column": null,
            "grid_gap": null,
            "grid_row": null,
            "grid_template_areas": null,
            "grid_template_columns": null,
            "grid_template_rows": null,
            "height": "25px",
            "justify_content": null,
            "justify_items": null,
            "left": null,
            "margin": null,
            "max_height": null,
            "max_width": null,
            "min_height": null,
            "min_width": null,
            "object_fit": null,
            "object_position": null,
            "order": null,
            "overflow": null,
            "overflow_x": null,
            "overflow_y": null,
            "padding": null,
            "right": null,
            "top": null,
            "visibility": null,
            "width": "300px"
          }
        },
        "83b985937982446daeb0fa266ccc188d": {
          "model_module": "@jupyter-widgets/controls",
          "model_name": "DescriptionStyleModel",
          "model_module_version": "1.5.0",
          "state": {
            "_model_module": "@jupyter-widgets/controls",
            "_model_module_version": "1.5.0",
            "_model_name": "DescriptionStyleModel",
            "_view_count": null,
            "_view_module": "@jupyter-widgets/base",
            "_view_module_version": "1.2.0",
            "_view_name": "StyleView",
            "description_width": ""
          }
        },
        "476bb55ca85d4cb2be0ea62309a84d73": {
          "model_module": "@jupyter-widgets/base",
          "model_name": "LayoutModel",
          "model_module_version": "1.2.0",
          "state": {
            "_model_module": "@jupyter-widgets/base",
            "_model_module_version": "1.2.0",
            "_model_name": "LayoutModel",
            "_view_count": null,
            "_view_module": "@jupyter-widgets/base",
            "_view_module_version": "1.2.0",
            "_view_name": "LayoutView",
            "align_content": null,
            "align_items": null,
            "align_self": null,
            "border": null,
            "bottom": null,
            "display": null,
            "flex": null,
            "flex_flow": null,
            "grid_area": null,
            "grid_auto_columns": null,
            "grid_auto_flow": null,
            "grid_auto_rows": null,
            "grid_column": null,
            "grid_gap": null,
            "grid_row": null,
            "grid_template_areas": null,
            "grid_template_columns": null,
            "grid_template_rows": null,
            "height": "24px",
            "justify_content": null,
            "justify_items": null,
            "left": null,
            "margin": null,
            "max_height": null,
            "max_width": null,
            "min_height": null,
            "min_width": null,
            "object_fit": null,
            "object_position": null,
            "order": null,
            "overflow": null,
            "overflow_x": null,
            "overflow_y": null,
            "padding": null,
            "right": null,
            "top": null,
            "visibility": null,
            "width": "300px"
          }
        },
        "8efffcffccc54d358659f684ad376577": {
          "model_module": "@jupyter-widgets/controls",
          "model_name": "DescriptionStyleModel",
          "model_module_version": "1.5.0",
          "state": {
            "_model_module": "@jupyter-widgets/controls",
            "_model_module_version": "1.5.0",
            "_model_name": "DescriptionStyleModel",
            "_view_count": null,
            "_view_module": "@jupyter-widgets/base",
            "_view_module_version": "1.2.0",
            "_view_name": "StyleView",
            "description_width": ""
          }
        }
      }
    }
  },
  "nbformat": 4,
  "nbformat_minor": 0
}