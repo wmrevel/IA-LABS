{
  "cells": [
    {
      "cell_type": "markdown",
      "metadata": {
        "id": "43gTIJqYKZPe"
      },
      "source": [
        "# LAB 02.03 - Pandas"
      ]
    },
    {
      "cell_type": "code",
      "execution_count": 270,
      "metadata": {
        "id": "1tAzz-tNKZPl",
        "outputId": "4fa93db9-3774-473d-f58a-b535c81c34fb",
        "colab": {
          "base_uri": "https://localhost:8080/",
          "height": 73
        }
      },
      "outputs": [
        {
          "output_type": "display_data",
          "data": {
            "text/plain": [
              "<IPython.core.display.HTML object>"
            ],
            "text/html": [
              "\n",
              "<meta name=\"google-signin-client_id\"\n",
              "      content=\"461673936472-kdjosv61up3ac1ajeuq6qqu72upilmls.apps.googleusercontent.com\"/>\n",
              "<script src=\"https://apis.google.com/js/client:platform.js?onload=google_button_start\"></script>\n",
              "    "
            ]
          },
          "metadata": {}
        },
        {
          "output_type": "stream",
          "name": "stdout",
          "text": [
            "replicating local resources\n"
          ]
        },
        {
          "output_type": "execute_result",
          "data": {
            "text/plain": [
              "<IPython.core.display.HTML object>"
            ],
            "text/html": [
              "<h3>See <a href='https://m5knaekxo6.execute-api.us-west-2.amazonaws.com/dev-v0001/rlxmooc/web/login' target='_blank'>my courses and progress</a></h2>"
            ]
          },
          "metadata": {},
          "execution_count": 270
        }
      ],
      "source": [
        "!wget --no-cache -O init.py -q https://raw.githubusercontent.com/rramosp/ai4eng.v1/main/content/init.py\n",
        "import init; init.init(force_download=False); init.get_weblink()\n"
      ]
    },
    {
      "cell_type": "code",
      "execution_count": 307,
      "metadata": {
        "id": "vJ9CaKj4KZPo",
        "outputId": "61baaf44-b697-4a30-9f1e-e247e36b5323",
        "colab": {
          "base_uri": "https://localhost:8080/",
          "height": 134,
          "referenced_widgets": [
            "f2431b93b6c94d62adef471cc2a7532a",
            "3993d961204a48fb8b385e6a3d84cbbd",
            "bcff2c9a4263417fa4100c45fd5ebb23",
            "9cd3dd91e8354b189dd700d543d77dc0",
            "d1886414ed12476aa23956a0665a3b9a",
            "f86e3845d0234bee9720873356258678",
            "755f112556574acea33d6c9501b55fba",
            "959d56abd3e1403b8f22c6abd8bd79fd",
            "4e61dda2d22b4db288fd1da1b13d4c1e",
            "9926f61555394ad3869a4ccb8fbfa180",
            "4cf61aa7881a4bafafdf5abb946f558b",
            "8b1c01becd094c0ab5c51caf86881042",
            "3ffbb4e62ce545a6ade272ebe5d9f2b9",
            "ff5378c3750d4028b82c5bd9ff12f662",
            "724acb461c6645379c04c65cfdade314",
            "fc13d89c51c14aeaa2c524a6301daadc",
            "b4f1715a2f84456aac54b622f3070586",
            "eda1d54ac28d496587ce3e121722d59e",
            "4221a056c93040909aec0dbc56ea199f"
          ]
        }
      },
      "outputs": [
        {
          "output_type": "stream",
          "name": "stdout",
          "text": [
            "logging in as wmauricio.restrepo@udea.edu.co... please wait\n",
            "using course session ai4eng.v1.udea.r2::2023.1\n",
            "success!! you are logged in\n"
          ]
        }
      ],
      "source": [
        "from local.lib.rlxmoocapi import submit, session\n",
        "session.LoginSequence(endpoint=init.endpoint, course_id=init.course_id, lab_id=\"L02.03\", varname=\"student\");"
      ]
    },
    {
      "cell_type": "code",
      "execution_count": 1,
      "metadata": {
        "id": "WfvvFne4KZPp"
      },
      "outputs": [],
      "source": [
        "import numpy as np\n",
        "import pandas as pd"
      ]
    },
    {
      "cell_type": "code",
      "source": [
        "a=np.random.rand(6)\n",
        "b=np.random.randint(1,10,6)  #random.randint(19,65,10)\n",
        "print(np.allclose(a,b))\n",
        "print(np.any(a==b))\n",
        "mean=np.mean(b)\n",
        "print(a)\n",
        "print(b)\n",
        "print(b[b<5])\n",
        "print(mean)\n",
        "c=a.reshape(2,-1)\n",
        "c.flatten()\n",
        "print(c)\n"
      ],
      "metadata": {
        "id": "QBOQas8mPRtC",
        "outputId": "a5ff5dc2-4a67-4c36-a221-96f8f11111dd",
        "colab": {
          "base_uri": "https://localhost:8080/"
        }
      },
      "execution_count": 113,
      "outputs": [
        {
          "output_type": "stream",
          "name": "stdout",
          "text": [
            "False\n",
            "False\n",
            "[0.75122227 0.76562699 0.75139442 0.08804653 0.66764107 0.66583463]\n",
            "[1 4 7 1 3 2]\n",
            "[1 4 1 3 2]\n",
            "3.0\n",
            "[[0.75122227 0.76562699 0.75139442]\n",
            " [0.08804653 0.66764107 0.66583463]]\n"
          ]
        }
      ]
    },
    {
      "cell_type": "code",
      "source": [
        "e = np.full((2,3),0)\n",
        "e"
      ],
      "metadata": {
        "id": "gw3MbNKdKpK7",
        "outputId": "22e28ac9-4dcc-4bb2-dbb8-ed17b133e3e7",
        "colab": {
          "base_uri": "https://localhost:8080/"
        }
      },
      "execution_count": 6,
      "outputs": [
        {
          "output_type": "execute_result",
          "data": {
            "text/plain": [
              "array([[0, 0, 0],\n",
              "       [0, 0, 0]])"
            ]
          },
          "metadata": {},
          "execution_count": 6
        }
      ]
    },
    {
      "cell_type": "markdown",
      "metadata": {
        "id": "uBLna6zzKZPs"
      },
      "source": [
        "## Task 1: Extract data\n",
        "\n",
        "we have a dataframe of items with a price and, **sometimes**, with an extra column (`margin`).\n",
        "\n",
        "You will have to complete a function that will **filter** the dataframe selecting the rows:\n",
        "\n",
        "- whose price is > 100\n",
        "- **OR** whose margin is >10, if the column `margin` is present\n",
        "\n",
        "your function must return **A LIST** with the item ids of the selected rows\n",
        "\n",
        "For instance, with the following dataframe\n",
        "\n",
        "             price  category\n",
        "    itemid                  \n",
        "    56556   108.15       2.0\n",
        "    73065    83.54       2.0\n",
        "    36619   114.42       0.0\n",
        "    73414    82.94       0.0\n",
        "    13410   115.13       2.0\n",
        "    66153    91.50       1.0\n",
        "    77380    85.82       0.0\n",
        "    73249    95.95       0.0\n",
        "    11654   100.22       2.0\n",
        "    11972    77.16       1.0\n",
        "\n",
        "your must return the following list:\n",
        "\n",
        "     [56556, 36619, 13410, 11654]\n",
        "     \n",
        "But if you get the following dataframe\n",
        "\n",
        "             price  category  margin\n",
        "    itemid                          \n",
        "    39059    98.11       0.0   11.04\n",
        "    19526    98.11       1.0   11.25\n",
        "    78176    94.34       1.0   10.51\n",
        "    50948   102.37       1.0   10.77\n",
        "    12111    98.07       1.0    8.50\n",
        "    56191    98.53       1.0   11.65\n",
        "    38887    91.49       2.0   11.24\n",
        "    77915   117.30       0.0    8.64\n",
        "    55010    96.13       0.0    8.95\n",
        "    45925    98.59       1.0   10.45\n",
        "    \n",
        "you must return the following list\n",
        "\n",
        "    [39059, 19526, 78176, 50948, 56191, 38887, 77915, 45925]"
      ]
    },
    {
      "cell_type": "code",
      "execution_count": 311,
      "metadata": {
        "id": "XtukkuFRKZPv"
      },
      "outputs": [],
      "source": [
        "def create_df(missing=False, n=10):\n",
        "    itemid   = np.random.randint(100000, size=n)+1000\n",
        "    category = np.random.randint(3, size=n)\n",
        "    price    = np.round(np.random.normal(loc=100, scale=10, size=n),2)\n",
        "    margin   = np.round(np.random.normal(loc=10, scale=1, size=n),2)\n",
        "    \n",
        "    if missing:\n",
        "        nmissing = np.random.randint(len(price)//2)+2                                     \n",
        "        price[np.random.permutation(len(price))[:nmissing]] = np.nan\n",
        "    \n",
        "    d = pd.DataFrame(np.r_[[price, category, margin]].T, index=itemid, columns=[\"price\", \"category\", \"margin\"])\n",
        "    d.index.name=\"itemid\"\n",
        "    if np.random.random()>.5:\n",
        "        d = d[d.columns[:2]]\n",
        "    #print(d[d.columns[:2]])\n",
        "    \n",
        "    return d"
      ]
    },
    {
      "cell_type": "code",
      "execution_count": 312,
      "metadata": {
        "id": "qiz9Bi8lKZPw",
        "outputId": "1a17d1ea-b6a5-4b53-8321-ec1dbf4e8bfb",
        "colab": {
          "base_uri": "https://localhost:8080/"
        }
      },
      "outputs": [
        {
          "output_type": "execute_result",
          "data": {
            "text/plain": [
              "(10, 2)"
            ]
          },
          "metadata": {},
          "execution_count": 312
        }
      ],
      "source": [
        "d = create_df()\n",
        "d.shape"
      ]
    },
    {
      "cell_type": "code",
      "execution_count": 343,
      "metadata": {
        "id": "RWkE0DaEKZPz"
      },
      "outputs": [],
      "source": [
        "def select_items(df):\n",
        "    # make sure to make a copy in case you modify the original df\n",
        "    df = df.copy()\n",
        "    #print(len(df),df.shape[1])\n",
        "    if df.shape[1]==3:\n",
        "      r = df[(df.price>100)|((df.margin>10))]\n",
        "    else:\n",
        "      r = df[(df.price>100)]\n",
        "      \n",
        "    #... # YOUR CODE HERE\n",
        "    #print(p100)\n",
        "    result = r.index.tolist()\n",
        "    return result"
      ]
    },
    {
      "cell_type": "markdown",
      "metadata": {
        "id": "YhmeLIi8KZP0"
      },
      "source": [
        "**manually check your answer**"
      ]
    },
    {
      "cell_type": "code",
      "execution_count": 344,
      "metadata": {
        "id": "rfe3y0WLKZP1",
        "outputId": "c6f086fd-7e8f-476a-a4e4-86f841e1b519",
        "colab": {
          "base_uri": "https://localhost:8080/",
          "height": 390
        }
      },
      "outputs": [
        {
          "output_type": "execute_result",
          "data": {
            "text/plain": [
              "         price  category\n",
              "itemid                  \n",
              "62354    84.13       2.0\n",
              "14214   107.87       1.0\n",
              "89971    98.40       2.0\n",
              "51804   108.49       0.0\n",
              "23968    98.93       1.0\n",
              "75962    88.46       0.0\n",
              "15838   101.83       1.0\n",
              "9514     93.80       2.0\n",
              "45254    99.75       0.0\n",
              "81193   120.86       1.0"
            ],
            "text/html": [
              "\n",
              "  <div id=\"df-a079531f-5e43-4ff6-bd27-835518aec78c\">\n",
              "    <div class=\"colab-df-container\">\n",
              "      <div>\n",
              "<style scoped>\n",
              "    .dataframe tbody tr th:only-of-type {\n",
              "        vertical-align: middle;\n",
              "    }\n",
              "\n",
              "    .dataframe tbody tr th {\n",
              "        vertical-align: top;\n",
              "    }\n",
              "\n",
              "    .dataframe thead th {\n",
              "        text-align: right;\n",
              "    }\n",
              "</style>\n",
              "<table border=\"1\" class=\"dataframe\">\n",
              "  <thead>\n",
              "    <tr style=\"text-align: right;\">\n",
              "      <th></th>\n",
              "      <th>price</th>\n",
              "      <th>category</th>\n",
              "    </tr>\n",
              "    <tr>\n",
              "      <th>itemid</th>\n",
              "      <th></th>\n",
              "      <th></th>\n",
              "    </tr>\n",
              "  </thead>\n",
              "  <tbody>\n",
              "    <tr>\n",
              "      <th>62354</th>\n",
              "      <td>84.13</td>\n",
              "      <td>2.0</td>\n",
              "    </tr>\n",
              "    <tr>\n",
              "      <th>14214</th>\n",
              "      <td>107.87</td>\n",
              "      <td>1.0</td>\n",
              "    </tr>\n",
              "    <tr>\n",
              "      <th>89971</th>\n",
              "      <td>98.40</td>\n",
              "      <td>2.0</td>\n",
              "    </tr>\n",
              "    <tr>\n",
              "      <th>51804</th>\n",
              "      <td>108.49</td>\n",
              "      <td>0.0</td>\n",
              "    </tr>\n",
              "    <tr>\n",
              "      <th>23968</th>\n",
              "      <td>98.93</td>\n",
              "      <td>1.0</td>\n",
              "    </tr>\n",
              "    <tr>\n",
              "      <th>75962</th>\n",
              "      <td>88.46</td>\n",
              "      <td>0.0</td>\n",
              "    </tr>\n",
              "    <tr>\n",
              "      <th>15838</th>\n",
              "      <td>101.83</td>\n",
              "      <td>1.0</td>\n",
              "    </tr>\n",
              "    <tr>\n",
              "      <th>9514</th>\n",
              "      <td>93.80</td>\n",
              "      <td>2.0</td>\n",
              "    </tr>\n",
              "    <tr>\n",
              "      <th>45254</th>\n",
              "      <td>99.75</td>\n",
              "      <td>0.0</td>\n",
              "    </tr>\n",
              "    <tr>\n",
              "      <th>81193</th>\n",
              "      <td>120.86</td>\n",
              "      <td>1.0</td>\n",
              "    </tr>\n",
              "  </tbody>\n",
              "</table>\n",
              "</div>\n",
              "      <button class=\"colab-df-convert\" onclick=\"convertToInteractive('df-a079531f-5e43-4ff6-bd27-835518aec78c')\"\n",
              "              title=\"Convert this dataframe to an interactive table.\"\n",
              "              style=\"display:none;\">\n",
              "        \n",
              "  <svg xmlns=\"http://www.w3.org/2000/svg\" height=\"24px\"viewBox=\"0 0 24 24\"\n",
              "       width=\"24px\">\n",
              "    <path d=\"M0 0h24v24H0V0z\" fill=\"none\"/>\n",
              "    <path d=\"M18.56 5.44l.94 2.06.94-2.06 2.06-.94-2.06-.94-.94-2.06-.94 2.06-2.06.94zm-11 1L8.5 8.5l.94-2.06 2.06-.94-2.06-.94L8.5 2.5l-.94 2.06-2.06.94zm10 10l.94 2.06.94-2.06 2.06-.94-2.06-.94-.94-2.06-.94 2.06-2.06.94z\"/><path d=\"M17.41 7.96l-1.37-1.37c-.4-.4-.92-.59-1.43-.59-.52 0-1.04.2-1.43.59L10.3 9.45l-7.72 7.72c-.78.78-.78 2.05 0 2.83L4 21.41c.39.39.9.59 1.41.59.51 0 1.02-.2 1.41-.59l7.78-7.78 2.81-2.81c.8-.78.8-2.07 0-2.86zM5.41 20L4 18.59l7.72-7.72 1.47 1.35L5.41 20z\"/>\n",
              "  </svg>\n",
              "      </button>\n",
              "      \n",
              "  <style>\n",
              "    .colab-df-container {\n",
              "      display:flex;\n",
              "      flex-wrap:wrap;\n",
              "      gap: 12px;\n",
              "    }\n",
              "\n",
              "    .colab-df-convert {\n",
              "      background-color: #E8F0FE;\n",
              "      border: none;\n",
              "      border-radius: 50%;\n",
              "      cursor: pointer;\n",
              "      display: none;\n",
              "      fill: #1967D2;\n",
              "      height: 32px;\n",
              "      padding: 0 0 0 0;\n",
              "      width: 32px;\n",
              "    }\n",
              "\n",
              "    .colab-df-convert:hover {\n",
              "      background-color: #E2EBFA;\n",
              "      box-shadow: 0px 1px 2px rgba(60, 64, 67, 0.3), 0px 1px 3px 1px rgba(60, 64, 67, 0.15);\n",
              "      fill: #174EA6;\n",
              "    }\n",
              "\n",
              "    [theme=dark] .colab-df-convert {\n",
              "      background-color: #3B4455;\n",
              "      fill: #D2E3FC;\n",
              "    }\n",
              "\n",
              "    [theme=dark] .colab-df-convert:hover {\n",
              "      background-color: #434B5C;\n",
              "      box-shadow: 0px 1px 3px 1px rgba(0, 0, 0, 0.15);\n",
              "      filter: drop-shadow(0px 1px 2px rgba(0, 0, 0, 0.3));\n",
              "      fill: #FFFFFF;\n",
              "    }\n",
              "  </style>\n",
              "\n",
              "      <script>\n",
              "        const buttonEl =\n",
              "          document.querySelector('#df-a079531f-5e43-4ff6-bd27-835518aec78c button.colab-df-convert');\n",
              "        buttonEl.style.display =\n",
              "          google.colab.kernel.accessAllowed ? 'block' : 'none';\n",
              "\n",
              "        async function convertToInteractive(key) {\n",
              "          const element = document.querySelector('#df-a079531f-5e43-4ff6-bd27-835518aec78c');\n",
              "          const dataTable =\n",
              "            await google.colab.kernel.invokeFunction('convertToInteractive',\n",
              "                                                     [key], {});\n",
              "          if (!dataTable) return;\n",
              "\n",
              "          const docLinkHtml = 'Like what you see? Visit the ' +\n",
              "            '<a target=\"_blank\" href=https://colab.research.google.com/notebooks/data_table.ipynb>data table notebook</a>'\n",
              "            + ' to learn more about interactive tables.';\n",
              "          element.innerHTML = '';\n",
              "          dataTable['output_type'] = 'display_data';\n",
              "          await google.colab.output.renderOutput(dataTable, element);\n",
              "          const docLink = document.createElement('div');\n",
              "          docLink.innerHTML = docLinkHtml;\n",
              "          element.appendChild(docLink);\n",
              "        }\n",
              "      </script>\n",
              "    </div>\n",
              "  </div>\n",
              "  "
            ]
          },
          "metadata": {},
          "execution_count": 344
        }
      ],
      "source": [
        "d = create_df()\n",
        "d"
      ]
    },
    {
      "cell_type": "code",
      "execution_count": 345,
      "metadata": {
        "id": "dRkPy2pvKZP2",
        "outputId": "072e670c-d6f6-4331-af61-aca4ef7f31f5",
        "colab": {
          "base_uri": "https://localhost:8080/"
        }
      },
      "outputs": [
        {
          "output_type": "execute_result",
          "data": {
            "text/plain": [
              "[14214, 51804, 15838, 81193]"
            ]
          },
          "metadata": {},
          "execution_count": 345
        }
      ],
      "source": [
        "select_items(d)"
      ]
    },
    {
      "cell_type": "markdown",
      "metadata": {
        "id": "NEu0NoRHKZP3"
      },
      "source": [
        "**submit your code**"
      ]
    },
    {
      "cell_type": "code",
      "execution_count": 346,
      "metadata": {
        "scrolled": false,
        "id": "YqnG-I10KZP3",
        "outputId": "5650f6ad-7c01-4219-ea17-a4f27e224f08",
        "colab": {
          "base_uri": "https://localhost:8080/",
          "height": 143
        }
      },
      "outputs": [
        {
          "output_type": "display_data",
          "data": {
            "text/plain": [
              "<IPython.core.display.HTML object>"
            ],
            "text/html": [
              "\n",
              "                    <b>task_01 submitted.</b> <b><font color=\"blue\">your grade is 5</font></b> \n",
              "                    <p/><pre>----- grader message -------</pre><br/>testing with 100 random calls<br/><b>correct</b><pre>----------------------------</pre>\n",
              "                    <p/><p/>\n",
              "                    <div style=\"font-size:10px\"><b>SUBMISSION CODE</b> VVhHORpm/hNSbttszADTT0HiZAWRmHu1SRAIsu00janDLkk6TgHBszeHcxIdStc4HAW+GfQcHlXK4uE3UdlKrpF/DNfmBUuzhPw+pHJhX8wj0Z0NoBEGHzQK6Kbe1TK7ZST6oyXrAmimz56WJeVtey0MVech0eyuQWUU2ezVj60=</div>\n",
              "                    "
            ]
          },
          "metadata": {}
        }
      ],
      "source": [
        "student.submit_task(globals(), task_id=\"task_01\");"
      ]
    },
    {
      "cell_type": "code",
      "execution_count": null,
      "metadata": {
        "id": "FBNzfHdlKZP4"
      },
      "outputs": [],
      "source": []
    },
    {
      "cell_type": "code",
      "execution_count": null,
      "metadata": {
        "id": "icRx4JpbKZP5"
      },
      "outputs": [],
      "source": []
    },
    {
      "cell_type": "markdown",
      "metadata": {
        "id": "wsecpJB4KZP6"
      },
      "source": [
        "## Task 2: Group statistics\n",
        "\n",
        "Complete the following function so that it returns a dataframe with the average, max and min **prices** per category. \n",
        "\n",
        "For instance, for the following dataframe\n",
        "\n",
        "             price  category  margin\n",
        "    itemid                          \n",
        "    17946    93.85       1.0   10.64\n",
        "    61190    91.72       1.0    9.76\n",
        "    39639   100.16       1.0   10.67\n",
        "    17791   110.44       2.0    9.65\n",
        "    7333    101.05       1.0    9.69\n",
        "    77362   122.33       0.0   11.14\n",
        "    92646   108.13       2.0   10.58\n",
        "    27797    85.52       2.0   10.88\n",
        "    31746    97.56       0.0    9.75\n",
        "    12355   101.04       2.0    9.51\n",
        "    \n",
        "you should return the following dataframe\n",
        "\n",
        "                 media  maximo  minimo\n",
        "    categoria                         \n",
        "    0         109.9450  122.33  97.56\n",
        "    1          96.6950  101.05  91.72\n",
        "    2         101.2825  110.44  85.52\n",
        "    \n",
        "observe that your result\n",
        "- must not be a **multilevel** columnset.\n",
        "- the column names and the index name must be **exactly** as in the example.\n",
        "- the **index** must be of type **int**."
      ]
    },
    {
      "cell_type": "code",
      "execution_count": null,
      "metadata": {
        "id": "rKYnNKa9KZP7"
      },
      "outputs": [],
      "source": [
        "def get_stats(df):\n",
        "    # make sure to make a copy in case you modify the original df\n",
        "    df = df.copy()\n",
        "        \n",
        "    ... # YOUR CODE HERE    \n",
        "    result = ...\n",
        "    return result"
      ]
    },
    {
      "cell_type": "markdown",
      "metadata": {
        "id": "uBeDXBNJKZP-"
      },
      "source": [
        "**manually check your answer**"
      ]
    },
    {
      "cell_type": "code",
      "execution_count": null,
      "metadata": {
        "id": "IBcJkiUcKZP_"
      },
      "outputs": [],
      "source": [
        "d = create_df()\n",
        "d"
      ]
    },
    {
      "cell_type": "code",
      "execution_count": null,
      "metadata": {
        "id": "8EDLIIB1KZQA"
      },
      "outputs": [],
      "source": [
        "get_stats(d)"
      ]
    },
    {
      "cell_type": "code",
      "execution_count": null,
      "metadata": {
        "id": "B71ESP_YKZQA"
      },
      "outputs": [],
      "source": []
    },
    {
      "cell_type": "markdown",
      "metadata": {
        "id": "0uQ88f9DKZQB"
      },
      "source": [
        "**submit your code**"
      ]
    },
    {
      "cell_type": "code",
      "execution_count": null,
      "metadata": {
        "scrolled": true,
        "id": "8DoLP_cIKZQC"
      },
      "outputs": [],
      "source": [
        "student.submit_task(globals(), task_id=\"task_02\");"
      ]
    },
    {
      "cell_type": "code",
      "execution_count": null,
      "metadata": {
        "id": "yjTZw1RKKZQD"
      },
      "outputs": [],
      "source": []
    },
    {
      "cell_type": "code",
      "execution_count": null,
      "metadata": {
        "id": "5L3fAjAGKZQE"
      },
      "outputs": [],
      "source": []
    },
    {
      "cell_type": "markdown",
      "metadata": {
        "id": "DxD2inIZKZQE"
      },
      "source": [
        "## Task 3: Fill in missing data\n",
        "\n",
        "Fill in the missing data in the **price** column with the following procedure:\n",
        "\n",
        "- compute the mean and std of the avaialable prices\n",
        "- sample from a normal distribution with the computed mean and std (see [`np.random.normal`])(https://numpy.org/doc/stable/reference/random/generated/numpy.random.normal.html), as many samples as missing data\n",
        "- substitute the missing values with the samples\n",
        "\n",
        "For instance, for this input dataframe:\n",
        "\n",
        "             price  category  margin\n",
        "    itemid                          \n",
        "    18922      NaN       1.0   10.32\n",
        "    69500   121.25       1.0   10.22\n",
        "    76442    90.25       1.0   12.60\n",
        "    33863   106.51       0.0   10.26\n",
        "    15904    95.87       1.0   11.51\n",
        "    41946   103.47       2.0    9.85\n",
        "    85451    93.08       2.0    9.56\n",
        "    70028   116.68       1.0    9.11\n",
        "    26860      NaN       2.0    9.71\n",
        "    12807    91.48       0.0    9.77\n",
        "    \n",
        "your solution might be similar to this (not exactly the same as you will be sampling data):\n",
        "\n",
        "\n",
        "                 price  category  margin\n",
        "    itemid                              \n",
        "    18922    97.441188       1.0   10.32\n",
        "    69500   121.250000       1.0   10.22\n",
        "    76442    90.250000       1.0   12.60\n",
        "    33863   106.510000       0.0   10.26\n",
        "    15904    95.870000       1.0   11.51\n",
        "    41946   103.470000       2.0    9.85\n",
        "    85451    93.080000       2.0    9.56\n",
        "    70028   116.680000       1.0    9.11\n",
        "    26860   103.294843       2.0    9.71\n",
        "    12807    91.480000       0.0    9.77\n",
        "    \n",
        "    \n",
        "**WARN**: your function must not modify the original dataframe, make a copy of the input dataframe, fill the values in the copy and return it.\n",
        "\n",
        "**HINT**: use the [`isna()`](https://pandas.pydata.org/pandas-docs/stable/reference/api/pandas.DataFrame.isna.html) method of a dataframe or a series."
      ]
    },
    {
      "cell_type": "code",
      "execution_count": null,
      "metadata": {
        "id": "d4JvOgppKZQG"
      },
      "outputs": [],
      "source": [
        "d = create_df(missing=True)\n",
        "d"
      ]
    },
    {
      "cell_type": "code",
      "execution_count": null,
      "metadata": {
        "id": "rQ6_QJR2KZQG"
      },
      "outputs": [],
      "source": [
        "def fillna(df):\n",
        "    # make sure to make a copy in case you modify the original df\n",
        "    df = df.copy()\n",
        "    \n",
        "    ... # YOUR CODE HERE    \n",
        "    result = ...\n",
        "    return result"
      ]
    },
    {
      "cell_type": "markdown",
      "metadata": {
        "id": "yMvFJUoCKZQH"
      },
      "source": [
        "**check manually your code**"
      ]
    },
    {
      "cell_type": "code",
      "execution_count": null,
      "metadata": {
        "id": "E9p5gc5ZKZQI"
      },
      "outputs": [],
      "source": [
        "d = create_df(missing=True)\n",
        "d"
      ]
    },
    {
      "cell_type": "code",
      "execution_count": null,
      "metadata": {
        "id": "Oj_yN2ykKZQJ"
      },
      "outputs": [],
      "source": [
        "fillna(d)"
      ]
    },
    {
      "cell_type": "code",
      "execution_count": null,
      "metadata": {
        "id": "JVJfNg07KZQK"
      },
      "outputs": [],
      "source": []
    },
    {
      "cell_type": "code",
      "execution_count": null,
      "metadata": {
        "id": "5CmvAUWEKZQL"
      },
      "outputs": [],
      "source": []
    },
    {
      "cell_type": "markdown",
      "metadata": {
        "id": "coi_2ZYaKZQM"
      },
      "source": [
        "**submit your code**"
      ]
    },
    {
      "cell_type": "code",
      "execution_count": null,
      "metadata": {
        "scrolled": true,
        "id": "8ULJuChIKZQP"
      },
      "outputs": [],
      "source": [
        "student.submit_task(globals(), task_id=\"task_03\");"
      ]
    },
    {
      "cell_type": "code",
      "execution_count": null,
      "metadata": {
        "id": "RNapHhVjKZQR"
      },
      "outputs": [],
      "source": []
    },
    {
      "cell_type": "code",
      "execution_count": null,
      "metadata": {
        "id": "vzb_0ULpKZQR"
      },
      "outputs": [],
      "source": []
    },
    {
      "cell_type": "code",
      "execution_count": null,
      "metadata": {
        "id": "tgaOFyKgKZQS"
      },
      "outputs": [],
      "source": []
    }
  ],
  "metadata": {
    "kernelspec": {
      "display_name": "Python 3",
      "language": "python",
      "name": "python3"
    },
    "language_info": {
      "codemirror_mode": {
        "name": "ipython",
        "version": 3
      },
      "file_extension": ".py",
      "mimetype": "text/x-python",
      "name": "python",
      "nbconvert_exporter": "python",
      "pygments_lexer": "ipython3",
      "version": "3.7.3"
    },
    "colab": {
      "provenance": []
    },
    "widgets": {
      "application/vnd.jupyter.widget-state+json": {
        "f2431b93b6c94d62adef471cc2a7532a": {
          "model_module": "@jupyter-widgets/controls",
          "model_name": "HBoxModel",
          "model_module_version": "1.5.0",
          "state": {
            "_dom_classes": [],
            "_model_module": "@jupyter-widgets/controls",
            "_model_module_version": "1.5.0",
            "_model_name": "HBoxModel",
            "_view_count": null,
            "_view_module": "@jupyter-widgets/controls",
            "_view_module_version": "1.5.0",
            "_view_name": "HBoxView",
            "box_style": "",
            "children": [
              "IPY_MODEL_3993d961204a48fb8b385e6a3d84cbbd",
              "IPY_MODEL_bcff2c9a4263417fa4100c45fd5ebb23",
              "IPY_MODEL_9cd3dd91e8354b189dd700d543d77dc0",
              "IPY_MODEL_d1886414ed12476aa23956a0665a3b9a"
            ],
            "layout": "IPY_MODEL_f86e3845d0234bee9720873356258678"
          }
        },
        "3993d961204a48fb8b385e6a3d84cbbd": {
          "model_module": "@jupyter-widgets/controls",
          "model_name": "VBoxModel",
          "model_module_version": "1.5.0",
          "state": {
            "_dom_classes": [],
            "_model_module": "@jupyter-widgets/controls",
            "_model_module_version": "1.5.0",
            "_model_name": "VBoxModel",
            "_view_count": null,
            "_view_module": "@jupyter-widgets/controls",
            "_view_module_version": "1.5.0",
            "_view_name": "VBoxView",
            "box_style": "",
            "children": [
              "IPY_MODEL_755f112556574acea33d6c9501b55fba",
              "IPY_MODEL_959d56abd3e1403b8f22c6abd8bd79fd"
            ],
            "layout": "IPY_MODEL_4e61dda2d22b4db288fd1da1b13d4c1e"
          }
        },
        "bcff2c9a4263417fa4100c45fd5ebb23": {
          "model_module": "@jupyter-widgets/controls",
          "model_name": "ButtonModel",
          "model_module_version": "1.5.0",
          "state": {
            "_dom_classes": [
              "login_button"
            ],
            "_model_module": "@jupyter-widgets/controls",
            "_model_module_version": "1.5.0",
            "_model_name": "ButtonModel",
            "_view_count": null,
            "_view_module": "@jupyter-widgets/controls",
            "_view_module_version": "1.5.0",
            "_view_name": "ButtonView",
            "button_style": "",
            "description": "Login with email",
            "disabled": false,
            "icon": "",
            "layout": "IPY_MODEL_9926f61555394ad3869a4ccb8fbfa180",
            "style": "IPY_MODEL_4cf61aa7881a4bafafdf5abb946f558b",
            "tooltip": ""
          }
        },
        "9cd3dd91e8354b189dd700d543d77dc0": {
          "model_module": "@jupyter-widgets/controls",
          "model_name": "HTMLModel",
          "model_module_version": "1.5.0",
          "state": {
            "_dom_classes": [],
            "_model_module": "@jupyter-widgets/controls",
            "_model_module_version": "1.5.0",
            "_model_name": "HTMLModel",
            "_view_count": null,
            "_view_module": "@jupyter-widgets/controls",
            "_view_module_version": "1.5.0",
            "_view_name": "HTMLView",
            "description": "",
            "description_tooltip": null,
            "layout": "IPY_MODEL_8b1c01becd094c0ab5c51caf86881042",
            "placeholder": "​",
            "style": "IPY_MODEL_3ffbb4e62ce545a6ade272ebe5d9f2b9",
            "value": "<center><big>or</big></center>"
          }
        },
        "d1886414ed12476aa23956a0665a3b9a": {
          "model_module": "@jupyter-widgets/controls",
          "model_name": "ButtonModel",
          "model_module_version": "1.5.0",
          "state": {
            "_dom_classes": [
              "google_button"
            ],
            "_model_module": "@jupyter-widgets/controls",
            "_model_module_version": "1.5.0",
            "_model_name": "ButtonModel",
            "_view_count": null,
            "_view_module": "@jupyter-widgets/controls",
            "_view_module_version": "1.5.0",
            "_view_name": "ButtonView",
            "button_style": "",
            "description": "Login with Google",
            "disabled": false,
            "icon": "",
            "layout": "IPY_MODEL_ff5378c3750d4028b82c5bd9ff12f662",
            "style": "IPY_MODEL_724acb461c6645379c04c65cfdade314",
            "tooltip": ""
          }
        },
        "f86e3845d0234bee9720873356258678": {
          "model_module": "@jupyter-widgets/base",
          "model_name": "LayoutModel",
          "model_module_version": "1.2.0",
          "state": {
            "_model_module": "@jupyter-widgets/base",
            "_model_module_version": "1.2.0",
            "_model_name": "LayoutModel",
            "_view_count": null,
            "_view_module": "@jupyter-widgets/base",
            "_view_module_version": "1.2.0",
            "_view_name": "LayoutView",
            "align_content": null,
            "align_items": null,
            "align_self": null,
            "border": null,
            "bottom": null,
            "display": null,
            "flex": null,
            "flex_flow": null,
            "grid_area": null,
            "grid_auto_columns": null,
            "grid_auto_flow": null,
            "grid_auto_rows": null,
            "grid_column": null,
            "grid_gap": null,
            "grid_row": null,
            "grid_template_areas": null,
            "grid_template_columns": null,
            "grid_template_rows": null,
            "height": null,
            "justify_content": null,
            "justify_items": null,
            "left": null,
            "margin": null,
            "max_height": null,
            "max_width": null,
            "min_height": null,
            "min_width": null,
            "object_fit": null,
            "object_position": null,
            "order": null,
            "overflow": null,
            "overflow_x": null,
            "overflow_y": null,
            "padding": null,
            "right": null,
            "top": null,
            "visibility": null,
            "width": null
          }
        },
        "755f112556574acea33d6c9501b55fba": {
          "model_module": "@jupyter-widgets/controls",
          "model_name": "TextModel",
          "model_module_version": "1.5.0",
          "state": {
            "_dom_classes": [],
            "_model_module": "@jupyter-widgets/controls",
            "_model_module_version": "1.5.0",
            "_model_name": "TextModel",
            "_view_count": null,
            "_view_module": "@jupyter-widgets/controls",
            "_view_module_version": "1.5.0",
            "_view_name": "TextView",
            "continuous_update": true,
            "description": "email",
            "description_tooltip": null,
            "disabled": false,
            "layout": "IPY_MODEL_fc13d89c51c14aeaa2c524a6301daadc",
            "placeholder": "​",
            "style": "IPY_MODEL_b4f1715a2f84456aac54b622f3070586",
            "value": ""
          }
        },
        "959d56abd3e1403b8f22c6abd8bd79fd": {
          "model_module": "@jupyter-widgets/controls",
          "model_name": "PasswordModel",
          "model_module_version": "1.5.0",
          "state": {
            "_dom_classes": [],
            "_model_module": "@jupyter-widgets/controls",
            "_model_module_version": "1.5.0",
            "_model_name": "PasswordModel",
            "_view_count": null,
            "_view_module": "@jupyter-widgets/controls",
            "_view_module_version": "1.5.0",
            "_view_name": "PasswordView",
            "continuous_update": true,
            "description": "password",
            "description_tooltip": null,
            "disabled": false,
            "layout": "IPY_MODEL_eda1d54ac28d496587ce3e121722d59e",
            "placeholder": "​",
            "style": "IPY_MODEL_4221a056c93040909aec0dbc56ea199f",
            "value": ""
          }
        },
        "4e61dda2d22b4db288fd1da1b13d4c1e": {
          "model_module": "@jupyter-widgets/base",
          "model_name": "LayoutModel",
          "model_module_version": "1.2.0",
          "state": {
            "_model_module": "@jupyter-widgets/base",
            "_model_module_version": "1.2.0",
            "_model_name": "LayoutModel",
            "_view_count": null,
            "_view_module": "@jupyter-widgets/base",
            "_view_module_version": "1.2.0",
            "_view_name": "LayoutView",
            "align_content": null,
            "align_items": null,
            "align_self": null,
            "border": null,
            "bottom": null,
            "display": null,
            "flex": null,
            "flex_flow": null,
            "grid_area": null,
            "grid_auto_columns": null,
            "grid_auto_flow": null,
            "grid_auto_rows": null,
            "grid_column": null,
            "grid_gap": null,
            "grid_row": null,
            "grid_template_areas": null,
            "grid_template_columns": null,
            "grid_template_rows": null,
            "height": null,
            "justify_content": null,
            "justify_items": null,
            "left": null,
            "margin": null,
            "max_height": null,
            "max_width": null,
            "min_height": null,
            "min_width": null,
            "object_fit": null,
            "object_position": null,
            "order": null,
            "overflow": null,
            "overflow_x": null,
            "overflow_y": null,
            "padding": null,
            "right": null,
            "top": null,
            "visibility": null,
            "width": null
          }
        },
        "9926f61555394ad3869a4ccb8fbfa180": {
          "model_module": "@jupyter-widgets/base",
          "model_name": "LayoutModel",
          "model_module_version": "1.2.0",
          "state": {
            "_model_module": "@jupyter-widgets/base",
            "_model_module_version": "1.2.0",
            "_model_name": "LayoutModel",
            "_view_count": null,
            "_view_module": "@jupyter-widgets/base",
            "_view_module_version": "1.2.0",
            "_view_name": "LayoutView",
            "align_content": null,
            "align_items": null,
            "align_self": null,
            "border": null,
            "bottom": null,
            "display": null,
            "flex": null,
            "flex_flow": null,
            "grid_area": null,
            "grid_auto_columns": null,
            "grid_auto_flow": null,
            "grid_auto_rows": null,
            "grid_column": null,
            "grid_gap": null,
            "grid_row": null,
            "grid_template_areas": null,
            "grid_template_columns": null,
            "grid_template_rows": null,
            "height": "53px",
            "justify_content": null,
            "justify_items": null,
            "left": null,
            "margin": null,
            "max_height": null,
            "max_width": null,
            "min_height": null,
            "min_width": null,
            "object_fit": null,
            "object_position": null,
            "order": null,
            "overflow": null,
            "overflow_x": null,
            "overflow_y": null,
            "padding": null,
            "right": null,
            "top": null,
            "visibility": null,
            "width": "150px"
          }
        },
        "4cf61aa7881a4bafafdf5abb946f558b": {
          "model_module": "@jupyter-widgets/controls",
          "model_name": "ButtonStyleModel",
          "model_module_version": "1.5.0",
          "state": {
            "_model_module": "@jupyter-widgets/controls",
            "_model_module_version": "1.5.0",
            "_model_name": "ButtonStyleModel",
            "_view_count": null,
            "_view_module": "@jupyter-widgets/base",
            "_view_module_version": "1.2.0",
            "_view_name": "StyleView",
            "button_color": null,
            "font_weight": ""
          }
        },
        "8b1c01becd094c0ab5c51caf86881042": {
          "model_module": "@jupyter-widgets/base",
          "model_name": "LayoutModel",
          "model_module_version": "1.2.0",
          "state": {
            "_model_module": "@jupyter-widgets/base",
            "_model_module_version": "1.2.0",
            "_model_name": "LayoutModel",
            "_view_count": null,
            "_view_module": "@jupyter-widgets/base",
            "_view_module_version": "1.2.0",
            "_view_name": "LayoutView",
            "align_content": null,
            "align_items": null,
            "align_self": null,
            "border": null,
            "bottom": null,
            "display": null,
            "flex": null,
            "flex_flow": null,
            "grid_area": null,
            "grid_auto_columns": null,
            "grid_auto_flow": null,
            "grid_auto_rows": null,
            "grid_column": null,
            "grid_gap": null,
            "grid_row": null,
            "grid_template_areas": null,
            "grid_template_columns": null,
            "grid_template_rows": null,
            "height": null,
            "justify_content": null,
            "justify_items": null,
            "left": null,
            "margin": null,
            "max_height": null,
            "max_width": null,
            "min_height": null,
            "min_width": null,
            "object_fit": null,
            "object_position": null,
            "order": null,
            "overflow": null,
            "overflow_x": null,
            "overflow_y": null,
            "padding": null,
            "right": null,
            "top": null,
            "visibility": null,
            "width": "100px"
          }
        },
        "3ffbb4e62ce545a6ade272ebe5d9f2b9": {
          "model_module": "@jupyter-widgets/controls",
          "model_name": "DescriptionStyleModel",
          "model_module_version": "1.5.0",
          "state": {
            "_model_module": "@jupyter-widgets/controls",
            "_model_module_version": "1.5.0",
            "_model_name": "DescriptionStyleModel",
            "_view_count": null,
            "_view_module": "@jupyter-widgets/base",
            "_view_module_version": "1.2.0",
            "_view_name": "StyleView",
            "description_width": ""
          }
        },
        "ff5378c3750d4028b82c5bd9ff12f662": {
          "model_module": "@jupyter-widgets/base",
          "model_name": "LayoutModel",
          "model_module_version": "1.2.0",
          "state": {
            "_model_module": "@jupyter-widgets/base",
            "_model_module_version": "1.2.0",
            "_model_name": "LayoutModel",
            "_view_count": null,
            "_view_module": "@jupyter-widgets/base",
            "_view_module_version": "1.2.0",
            "_view_name": "LayoutView",
            "align_content": null,
            "align_items": null,
            "align_self": null,
            "border": null,
            "bottom": null,
            "display": null,
            "flex": null,
            "flex_flow": null,
            "grid_area": null,
            "grid_auto_columns": null,
            "grid_auto_flow": null,
            "grid_auto_rows": null,
            "grid_column": null,
            "grid_gap": null,
            "grid_row": null,
            "grid_template_areas": null,
            "grid_template_columns": null,
            "grid_template_rows": null,
            "height": "53px",
            "justify_content": null,
            "justify_items": null,
            "left": null,
            "margin": null,
            "max_height": null,
            "max_width": null,
            "min_height": null,
            "min_width": null,
            "object_fit": null,
            "object_position": null,
            "order": null,
            "overflow": null,
            "overflow_x": null,
            "overflow_y": null,
            "padding": null,
            "right": null,
            "top": null,
            "visibility": null,
            "width": "200px"
          }
        },
        "724acb461c6645379c04c65cfdade314": {
          "model_module": "@jupyter-widgets/controls",
          "model_name": "ButtonStyleModel",
          "model_module_version": "1.5.0",
          "state": {
            "_model_module": "@jupyter-widgets/controls",
            "_model_module_version": "1.5.0",
            "_model_name": "ButtonStyleModel",
            "_view_count": null,
            "_view_module": "@jupyter-widgets/base",
            "_view_module_version": "1.2.0",
            "_view_name": "StyleView",
            "button_color": null,
            "font_weight": ""
          }
        },
        "fc13d89c51c14aeaa2c524a6301daadc": {
          "model_module": "@jupyter-widgets/base",
          "model_name": "LayoutModel",
          "model_module_version": "1.2.0",
          "state": {
            "_model_module": "@jupyter-widgets/base",
            "_model_module_version": "1.2.0",
            "_model_name": "LayoutModel",
            "_view_count": null,
            "_view_module": "@jupyter-widgets/base",
            "_view_module_version": "1.2.0",
            "_view_name": "LayoutView",
            "align_content": null,
            "align_items": null,
            "align_self": null,
            "border": null,
            "bottom": null,
            "display": null,
            "flex": null,
            "flex_flow": null,
            "grid_area": null,
            "grid_auto_columns": null,
            "grid_auto_flow": null,
            "grid_auto_rows": null,
            "grid_column": null,
            "grid_gap": null,
            "grid_row": null,
            "grid_template_areas": null,
            "grid_template_columns": null,
            "grid_template_rows": null,
            "height": "25px",
            "justify_content": null,
            "justify_items": null,
            "left": null,
            "margin": null,
            "max_height": null,
            "max_width": null,
            "min_height": null,
            "min_width": null,
            "object_fit": null,
            "object_position": null,
            "order": null,
            "overflow": null,
            "overflow_x": null,
            "overflow_y": null,
            "padding": null,
            "right": null,
            "top": null,
            "visibility": null,
            "width": "300px"
          }
        },
        "b4f1715a2f84456aac54b622f3070586": {
          "model_module": "@jupyter-widgets/controls",
          "model_name": "DescriptionStyleModel",
          "model_module_version": "1.5.0",
          "state": {
            "_model_module": "@jupyter-widgets/controls",
            "_model_module_version": "1.5.0",
            "_model_name": "DescriptionStyleModel",
            "_view_count": null,
            "_view_module": "@jupyter-widgets/base",
            "_view_module_version": "1.2.0",
            "_view_name": "StyleView",
            "description_width": ""
          }
        },
        "eda1d54ac28d496587ce3e121722d59e": {
          "model_module": "@jupyter-widgets/base",
          "model_name": "LayoutModel",
          "model_module_version": "1.2.0",
          "state": {
            "_model_module": "@jupyter-widgets/base",
            "_model_module_version": "1.2.0",
            "_model_name": "LayoutModel",
            "_view_count": null,
            "_view_module": "@jupyter-widgets/base",
            "_view_module_version": "1.2.0",
            "_view_name": "LayoutView",
            "align_content": null,
            "align_items": null,
            "align_self": null,
            "border": null,
            "bottom": null,
            "display": null,
            "flex": null,
            "flex_flow": null,
            "grid_area": null,
            "grid_auto_columns": null,
            "grid_auto_flow": null,
            "grid_auto_rows": null,
            "grid_column": null,
            "grid_gap": null,
            "grid_row": null,
            "grid_template_areas": null,
            "grid_template_columns": null,
            "grid_template_rows": null,
            "height": "24px",
            "justify_content": null,
            "justify_items": null,
            "left": null,
            "margin": null,
            "max_height": null,
            "max_width": null,
            "min_height": null,
            "min_width": null,
            "object_fit": null,
            "object_position": null,
            "order": null,
            "overflow": null,
            "overflow_x": null,
            "overflow_y": null,
            "padding": null,
            "right": null,
            "top": null,
            "visibility": null,
            "width": "300px"
          }
        },
        "4221a056c93040909aec0dbc56ea199f": {
          "model_module": "@jupyter-widgets/controls",
          "model_name": "DescriptionStyleModel",
          "model_module_version": "1.5.0",
          "state": {
            "_model_module": "@jupyter-widgets/controls",
            "_model_module_version": "1.5.0",
            "_model_name": "DescriptionStyleModel",
            "_view_count": null,
            "_view_module": "@jupyter-widgets/base",
            "_view_module_version": "1.2.0",
            "_view_name": "StyleView",
            "description_width": ""
          }
        }
      }
    }
  },
  "nbformat": 4,
  "nbformat_minor": 0
}